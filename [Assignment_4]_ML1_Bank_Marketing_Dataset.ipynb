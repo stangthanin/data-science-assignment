{
  "cells": [
    {
      "cell_type": "code",
      "execution_count": 43,
      "metadata": {
        "colab": {
          "base_uri": "https://localhost:8080/"
        },
        "id": "zWXBGctcsYBn",
        "outputId": "acdd70a0-72d2-4d2a-e707-35ed1cfb7797"
      },
      "outputs": [
        {
          "name": "stdout",
          "output_type": "stream",
          "text": [
            "Requirement already satisfied: pandasql in c:\\users\\thanin\\appdata\\local\\programs\\python\\python310\\lib\\site-packages (0.7.3)\n",
            "Requirement already satisfied: numpy in c:\\users\\thanin\\appdata\\local\\programs\\python\\python310\\lib\\site-packages (from pandasql) (1.22.2)\n",
            "Requirement already satisfied: pandas in c:\\users\\thanin\\appdata\\local\\programs\\python\\python310\\lib\\site-packages (from pandasql) (1.4.0)\n",
            "Requirement already satisfied: sqlalchemy in c:\\users\\thanin\\appdata\\local\\programs\\python\\python310\\lib\\site-packages (from pandasql) (1.4.31)\n",
            "Requirement already satisfied: python-dateutil>=2.8.1 in c:\\users\\thanin\\appdata\\local\\programs\\python\\python310\\lib\\site-packages (from pandas->pandasql) (2.8.2)\n",
            "Requirement already satisfied: pytz>=2020.1 in c:\\users\\thanin\\appdata\\local\\programs\\python\\python310\\lib\\site-packages (from pandas->pandasql) (2021.3)\n",
            "Requirement already satisfied: greenlet!=0.4.17 in c:\\users\\thanin\\appdata\\local\\programs\\python\\python310\\lib\\site-packages (from sqlalchemy->pandasql) (1.1.2)\n",
            "Requirement already satisfied: six>=1.5 in c:\\users\\thanin\\appdata\\local\\programs\\python\\python310\\lib\\site-packages (from python-dateutil>=2.8.1->pandas->pandasql) (1.16.0)\n"
          ]
        }
      ],
      "source": [
        "import pandas as pd\n",
        "import numpy as np\n",
        "import matplotlib.pyplot as plt\n",
        "import seaborn as sns\n",
        "%matplotlib inline\n",
        "plt.rcParams['figure.figsize'] = (12,8)\n",
        "!pip install pandasql\n",
        "import pandasql"
      ]
    },
    {
      "cell_type": "code",
      "execution_count": 44,
      "metadata": {
        "colab": {
          "base_uri": "https://localhost:8080/"
        },
        "id": "Igtc9wDYsNJS",
        "outputId": "447dfaff-1ee0-46ac-f234-aa06ba39b998"
      },
      "outputs": [
        {
          "name": "stderr",
          "output_type": "stream",
          "text": [
            "'wget' is not recognized as an internal or external command,\n",
            "operable program or batch file.\n"
          ]
        }
      ],
      "source": [
        "!wget 'https://github.com/kaopanboonyuen/2110446_DataScience_2021s2/raw/main/datasets/hw/week4/bank-additional-full.csv' "
      ]
    },
    {
      "cell_type": "markdown",
      "metadata": {
        "id": "0YWmPf6YpoIz"
      },
      "source": [
        "#1.     Preview the data"
      ]
    },
    {
      "cell_type": "code",
      "execution_count": 45,
      "metadata": {
        "colab": {
          "base_uri": "https://localhost:8080/",
          "height": 270
        },
        "id": "dk5dqH4rs8xd",
        "outputId": "c5321229-6657-40f4-8fdd-292474deadf6"
      },
      "outputs": [
        {
          "data": {
            "text/html": [
              "<div>\n",
              "<style scoped>\n",
              "    .dataframe tbody tr th:only-of-type {\n",
              "        vertical-align: middle;\n",
              "    }\n",
              "\n",
              "    .dataframe tbody tr th {\n",
              "        vertical-align: top;\n",
              "    }\n",
              "\n",
              "    .dataframe thead th {\n",
              "        text-align: right;\n",
              "    }\n",
              "</style>\n",
              "<table border=\"1\" class=\"dataframe\">\n",
              "  <thead>\n",
              "    <tr style=\"text-align: right;\">\n",
              "      <th></th>\n",
              "      <th>age</th>\n",
              "      <th>job</th>\n",
              "      <th>marital</th>\n",
              "      <th>education</th>\n",
              "      <th>default</th>\n",
              "      <th>housing</th>\n",
              "      <th>loan</th>\n",
              "      <th>contact</th>\n",
              "      <th>month</th>\n",
              "      <th>day_of_week</th>\n",
              "      <th>...</th>\n",
              "      <th>campaign</th>\n",
              "      <th>pdays</th>\n",
              "      <th>previous</th>\n",
              "      <th>poutcome</th>\n",
              "      <th>emp.var.rate</th>\n",
              "      <th>cons.price.idx</th>\n",
              "      <th>cons.conf.idx</th>\n",
              "      <th>euribor3m</th>\n",
              "      <th>nr.employed</th>\n",
              "      <th>y</th>\n",
              "    </tr>\n",
              "  </thead>\n",
              "  <tbody>\n",
              "    <tr>\n",
              "      <th>0</th>\n",
              "      <td>56</td>\n",
              "      <td>housemaid</td>\n",
              "      <td>married</td>\n",
              "      <td>basic.4y</td>\n",
              "      <td>no</td>\n",
              "      <td>no</td>\n",
              "      <td>no</td>\n",
              "      <td>telephone</td>\n",
              "      <td>may</td>\n",
              "      <td>mon</td>\n",
              "      <td>...</td>\n",
              "      <td>1</td>\n",
              "      <td>999</td>\n",
              "      <td>0</td>\n",
              "      <td>nonexistent</td>\n",
              "      <td>1.1</td>\n",
              "      <td>93.994</td>\n",
              "      <td>-36.4</td>\n",
              "      <td>4.857</td>\n",
              "      <td>5191.0</td>\n",
              "      <td>no</td>\n",
              "    </tr>\n",
              "    <tr>\n",
              "      <th>1</th>\n",
              "      <td>57</td>\n",
              "      <td>services</td>\n",
              "      <td>married</td>\n",
              "      <td>high.school</td>\n",
              "      <td>unknown</td>\n",
              "      <td>no</td>\n",
              "      <td>no</td>\n",
              "      <td>telephone</td>\n",
              "      <td>may</td>\n",
              "      <td>mon</td>\n",
              "      <td>...</td>\n",
              "      <td>1</td>\n",
              "      <td>999</td>\n",
              "      <td>0</td>\n",
              "      <td>nonexistent</td>\n",
              "      <td>1.1</td>\n",
              "      <td>93.994</td>\n",
              "      <td>-36.4</td>\n",
              "      <td>4.857</td>\n",
              "      <td>5191.0</td>\n",
              "      <td>no</td>\n",
              "    </tr>\n",
              "    <tr>\n",
              "      <th>2</th>\n",
              "      <td>37</td>\n",
              "      <td>services</td>\n",
              "      <td>married</td>\n",
              "      <td>high.school</td>\n",
              "      <td>no</td>\n",
              "      <td>yes</td>\n",
              "      <td>no</td>\n",
              "      <td>telephone</td>\n",
              "      <td>may</td>\n",
              "      <td>mon</td>\n",
              "      <td>...</td>\n",
              "      <td>1</td>\n",
              "      <td>999</td>\n",
              "      <td>0</td>\n",
              "      <td>nonexistent</td>\n",
              "      <td>1.1</td>\n",
              "      <td>93.994</td>\n",
              "      <td>-36.4</td>\n",
              "      <td>4.857</td>\n",
              "      <td>5191.0</td>\n",
              "      <td>no</td>\n",
              "    </tr>\n",
              "    <tr>\n",
              "      <th>3</th>\n",
              "      <td>40</td>\n",
              "      <td>admin.</td>\n",
              "      <td>married</td>\n",
              "      <td>basic.6y</td>\n",
              "      <td>no</td>\n",
              "      <td>no</td>\n",
              "      <td>no</td>\n",
              "      <td>telephone</td>\n",
              "      <td>may</td>\n",
              "      <td>mon</td>\n",
              "      <td>...</td>\n",
              "      <td>1</td>\n",
              "      <td>999</td>\n",
              "      <td>0</td>\n",
              "      <td>nonexistent</td>\n",
              "      <td>1.1</td>\n",
              "      <td>93.994</td>\n",
              "      <td>-36.4</td>\n",
              "      <td>4.857</td>\n",
              "      <td>5191.0</td>\n",
              "      <td>no</td>\n",
              "    </tr>\n",
              "    <tr>\n",
              "      <th>4</th>\n",
              "      <td>56</td>\n",
              "      <td>services</td>\n",
              "      <td>married</td>\n",
              "      <td>high.school</td>\n",
              "      <td>no</td>\n",
              "      <td>no</td>\n",
              "      <td>yes</td>\n",
              "      <td>telephone</td>\n",
              "      <td>may</td>\n",
              "      <td>mon</td>\n",
              "      <td>...</td>\n",
              "      <td>1</td>\n",
              "      <td>999</td>\n",
              "      <td>0</td>\n",
              "      <td>nonexistent</td>\n",
              "      <td>1.1</td>\n",
              "      <td>93.994</td>\n",
              "      <td>-36.4</td>\n",
              "      <td>4.857</td>\n",
              "      <td>5191.0</td>\n",
              "      <td>no</td>\n",
              "    </tr>\n",
              "  </tbody>\n",
              "</table>\n",
              "<p>5 rows × 21 columns</p>\n",
              "</div>"
            ],
            "text/plain": [
              "   age        job  marital    education  default housing loan    contact  \\\n",
              "0   56  housemaid  married     basic.4y       no      no   no  telephone   \n",
              "1   57   services  married  high.school  unknown      no   no  telephone   \n",
              "2   37   services  married  high.school       no     yes   no  telephone   \n",
              "3   40     admin.  married     basic.6y       no      no   no  telephone   \n",
              "4   56   services  married  high.school       no      no  yes  telephone   \n",
              "\n",
              "  month day_of_week  ...  campaign  pdays  previous     poutcome emp.var.rate  \\\n",
              "0   may         mon  ...         1    999         0  nonexistent          1.1   \n",
              "1   may         mon  ...         1    999         0  nonexistent          1.1   \n",
              "2   may         mon  ...         1    999         0  nonexistent          1.1   \n",
              "3   may         mon  ...         1    999         0  nonexistent          1.1   \n",
              "4   may         mon  ...         1    999         0  nonexistent          1.1   \n",
              "\n",
              "   cons.price.idx  cons.conf.idx  euribor3m  nr.employed   y  \n",
              "0          93.994          -36.4      4.857       5191.0  no  \n",
              "1          93.994          -36.4      4.857       5191.0  no  \n",
              "2          93.994          -36.4      4.857       5191.0  no  \n",
              "3          93.994          -36.4      4.857       5191.0  no  \n",
              "4          93.994          -36.4      4.857       5191.0  no  \n",
              "\n",
              "[5 rows x 21 columns]"
            ]
          },
          "execution_count": 45,
          "metadata": {},
          "output_type": "execute_result"
        }
      ],
      "source": [
        "df = pd.read_csv('bank-additional-full.csv',sep = ';' )\n",
        "df.head()"
      ]
    },
    {
      "cell_type": "code",
      "execution_count": 46,
      "metadata": {
        "colab": {
          "base_uri": "https://localhost:8080/",
          "height": 287
        },
        "id": "0rF96KXv2_14",
        "outputId": "db36a0c1-0ec7-4651-b04a-865caedef8cf"
      },
      "outputs": [
        {
          "data": {
            "text/html": [
              "<div>\n",
              "<style scoped>\n",
              "    .dataframe tbody tr th:only-of-type {\n",
              "        vertical-align: middle;\n",
              "    }\n",
              "\n",
              "    .dataframe tbody tr th {\n",
              "        vertical-align: top;\n",
              "    }\n",
              "\n",
              "    .dataframe thead th {\n",
              "        text-align: right;\n",
              "    }\n",
              "</style>\n",
              "<table border=\"1\" class=\"dataframe\">\n",
              "  <thead>\n",
              "    <tr style=\"text-align: right;\">\n",
              "      <th></th>\n",
              "      <th>age</th>\n",
              "      <th>job</th>\n",
              "      <th>marital</th>\n",
              "      <th>education</th>\n",
              "      <th>default</th>\n",
              "      <th>housing</th>\n",
              "      <th>loan</th>\n",
              "      <th>contact</th>\n",
              "      <th>month</th>\n",
              "      <th>day_of_week</th>\n",
              "      <th>...</th>\n",
              "      <th>campaign</th>\n",
              "      <th>pdays</th>\n",
              "      <th>previous</th>\n",
              "      <th>poutcome</th>\n",
              "      <th>emp.var.rate</th>\n",
              "      <th>cons.price.idx</th>\n",
              "      <th>cons.conf.idx</th>\n",
              "      <th>euribor3m</th>\n",
              "      <th>nr.employed</th>\n",
              "      <th>y</th>\n",
              "    </tr>\n",
              "  </thead>\n",
              "  <tbody>\n",
              "    <tr>\n",
              "      <th>41183</th>\n",
              "      <td>73</td>\n",
              "      <td>retired</td>\n",
              "      <td>married</td>\n",
              "      <td>professional.course</td>\n",
              "      <td>no</td>\n",
              "      <td>yes</td>\n",
              "      <td>no</td>\n",
              "      <td>cellular</td>\n",
              "      <td>nov</td>\n",
              "      <td>fri</td>\n",
              "      <td>...</td>\n",
              "      <td>1</td>\n",
              "      <td>999</td>\n",
              "      <td>0</td>\n",
              "      <td>nonexistent</td>\n",
              "      <td>-1.1</td>\n",
              "      <td>94.767</td>\n",
              "      <td>-50.8</td>\n",
              "      <td>1.028</td>\n",
              "      <td>4963.6</td>\n",
              "      <td>yes</td>\n",
              "    </tr>\n",
              "    <tr>\n",
              "      <th>41184</th>\n",
              "      <td>46</td>\n",
              "      <td>blue-collar</td>\n",
              "      <td>married</td>\n",
              "      <td>professional.course</td>\n",
              "      <td>no</td>\n",
              "      <td>no</td>\n",
              "      <td>no</td>\n",
              "      <td>cellular</td>\n",
              "      <td>nov</td>\n",
              "      <td>fri</td>\n",
              "      <td>...</td>\n",
              "      <td>1</td>\n",
              "      <td>999</td>\n",
              "      <td>0</td>\n",
              "      <td>nonexistent</td>\n",
              "      <td>-1.1</td>\n",
              "      <td>94.767</td>\n",
              "      <td>-50.8</td>\n",
              "      <td>1.028</td>\n",
              "      <td>4963.6</td>\n",
              "      <td>no</td>\n",
              "    </tr>\n",
              "    <tr>\n",
              "      <th>41185</th>\n",
              "      <td>56</td>\n",
              "      <td>retired</td>\n",
              "      <td>married</td>\n",
              "      <td>university.degree</td>\n",
              "      <td>no</td>\n",
              "      <td>yes</td>\n",
              "      <td>no</td>\n",
              "      <td>cellular</td>\n",
              "      <td>nov</td>\n",
              "      <td>fri</td>\n",
              "      <td>...</td>\n",
              "      <td>2</td>\n",
              "      <td>999</td>\n",
              "      <td>0</td>\n",
              "      <td>nonexistent</td>\n",
              "      <td>-1.1</td>\n",
              "      <td>94.767</td>\n",
              "      <td>-50.8</td>\n",
              "      <td>1.028</td>\n",
              "      <td>4963.6</td>\n",
              "      <td>no</td>\n",
              "    </tr>\n",
              "    <tr>\n",
              "      <th>41186</th>\n",
              "      <td>44</td>\n",
              "      <td>technician</td>\n",
              "      <td>married</td>\n",
              "      <td>professional.course</td>\n",
              "      <td>no</td>\n",
              "      <td>no</td>\n",
              "      <td>no</td>\n",
              "      <td>cellular</td>\n",
              "      <td>nov</td>\n",
              "      <td>fri</td>\n",
              "      <td>...</td>\n",
              "      <td>1</td>\n",
              "      <td>999</td>\n",
              "      <td>0</td>\n",
              "      <td>nonexistent</td>\n",
              "      <td>-1.1</td>\n",
              "      <td>94.767</td>\n",
              "      <td>-50.8</td>\n",
              "      <td>1.028</td>\n",
              "      <td>4963.6</td>\n",
              "      <td>yes</td>\n",
              "    </tr>\n",
              "    <tr>\n",
              "      <th>41187</th>\n",
              "      <td>74</td>\n",
              "      <td>retired</td>\n",
              "      <td>married</td>\n",
              "      <td>professional.course</td>\n",
              "      <td>no</td>\n",
              "      <td>yes</td>\n",
              "      <td>no</td>\n",
              "      <td>cellular</td>\n",
              "      <td>nov</td>\n",
              "      <td>fri</td>\n",
              "      <td>...</td>\n",
              "      <td>3</td>\n",
              "      <td>999</td>\n",
              "      <td>1</td>\n",
              "      <td>failure</td>\n",
              "      <td>-1.1</td>\n",
              "      <td>94.767</td>\n",
              "      <td>-50.8</td>\n",
              "      <td>1.028</td>\n",
              "      <td>4963.6</td>\n",
              "      <td>no</td>\n",
              "    </tr>\n",
              "  </tbody>\n",
              "</table>\n",
              "<p>5 rows × 21 columns</p>\n",
              "</div>"
            ],
            "text/plain": [
              "       age          job  marital            education default housing loan  \\\n",
              "41183   73      retired  married  professional.course      no     yes   no   \n",
              "41184   46  blue-collar  married  professional.course      no      no   no   \n",
              "41185   56      retired  married    university.degree      no     yes   no   \n",
              "41186   44   technician  married  professional.course      no      no   no   \n",
              "41187   74      retired  married  professional.course      no     yes   no   \n",
              "\n",
              "        contact month day_of_week  ...  campaign  pdays  previous  \\\n",
              "41183  cellular   nov         fri  ...         1    999         0   \n",
              "41184  cellular   nov         fri  ...         1    999         0   \n",
              "41185  cellular   nov         fri  ...         2    999         0   \n",
              "41186  cellular   nov         fri  ...         1    999         0   \n",
              "41187  cellular   nov         fri  ...         3    999         1   \n",
              "\n",
              "          poutcome emp.var.rate  cons.price.idx  cons.conf.idx  euribor3m  \\\n",
              "41183  nonexistent         -1.1          94.767          -50.8      1.028   \n",
              "41184  nonexistent         -1.1          94.767          -50.8      1.028   \n",
              "41185  nonexistent         -1.1          94.767          -50.8      1.028   \n",
              "41186  nonexistent         -1.1          94.767          -50.8      1.028   \n",
              "41187      failure         -1.1          94.767          -50.8      1.028   \n",
              "\n",
              "       nr.employed    y  \n",
              "41183       4963.6  yes  \n",
              "41184       4963.6   no  \n",
              "41185       4963.6   no  \n",
              "41186       4963.6  yes  \n",
              "41187       4963.6   no  \n",
              "\n",
              "[5 rows x 21 columns]"
            ]
          },
          "execution_count": 46,
          "metadata": {},
          "output_type": "execute_result"
        }
      ],
      "source": [
        "df.tail()"
      ]
    },
    {
      "cell_type": "markdown",
      "metadata": {
        "id": "WfxqBJ6lprbN"
      },
      "source": [
        "How many rows of data are there in total?"
      ]
    },
    {
      "cell_type": "code",
      "execution_count": 47,
      "metadata": {
        "colab": {
          "base_uri": "https://localhost:8080/"
        },
        "id": "asGeNia-toQX",
        "outputId": "cf877cb8-be04-410f-a8c0-1acfe5ea4c01"
      },
      "outputs": [
        {
          "data": {
            "text/plain": [
              "(41188, 21)"
            ]
          },
          "execution_count": 47,
          "metadata": {},
          "output_type": "execute_result"
        }
      ],
      "source": [
        "df.shape"
      ]
    },
    {
      "cell_type": "markdown",
      "metadata": {
        "id": "cOKGMI05p2zt"
      },
      "source": [
        "How many numeric & categorical variables are there each?\n"
      ]
    },
    {
      "cell_type": "code",
      "execution_count": 48,
      "metadata": {
        "colab": {
          "base_uri": "https://localhost:8080/"
        },
        "id": "WEt7GD5RtwQ3",
        "outputId": "1d836910-3f61-418d-c36b-27786555cbaf"
      },
      "outputs": [
        {
          "name": "stdout",
          "output_type": "stream",
          "text": [
            "<class 'pandas.core.frame.DataFrame'>\n",
            "RangeIndex: 41188 entries, 0 to 41187\n",
            "Data columns (total 21 columns):\n",
            " #   Column          Non-Null Count  Dtype  \n",
            "---  ------          --------------  -----  \n",
            " 0   age             41188 non-null  int64  \n",
            " 1   job             41188 non-null  object \n",
            " 2   marital         41188 non-null  object \n",
            " 3   education       41188 non-null  object \n",
            " 4   default         41188 non-null  object \n",
            " 5   housing         41188 non-null  object \n",
            " 6   loan            41188 non-null  object \n",
            " 7   contact         41188 non-null  object \n",
            " 8   month           41188 non-null  object \n",
            " 9   day_of_week     41188 non-null  object \n",
            " 10  duration        41188 non-null  int64  \n",
            " 11  campaign        41188 non-null  int64  \n",
            " 12  pdays           41188 non-null  int64  \n",
            " 13  previous        41188 non-null  int64  \n",
            " 14  poutcome        41188 non-null  object \n",
            " 15  emp.var.rate    41188 non-null  float64\n",
            " 16  cons.price.idx  41188 non-null  float64\n",
            " 17  cons.conf.idx   41188 non-null  float64\n",
            " 18  euribor3m       41188 non-null  float64\n",
            " 19  nr.employed     41188 non-null  float64\n",
            " 20  y               41188 non-null  object \n",
            "dtypes: float64(5), int64(5), object(11)\n",
            "memory usage: 6.6+ MB\n"
          ]
        }
      ],
      "source": [
        "df.info()"
      ]
    },
    {
      "cell_type": "markdown",
      "metadata": {
        "id": "KlEf5LKPp6MK"
      },
      "source": [
        "How is the distribution of the target variable?"
      ]
    },
    {
      "cell_type": "code",
      "execution_count": 49,
      "metadata": {
        "colab": {
          "base_uri": "https://localhost:8080/"
        },
        "id": "29JcXYj92bfQ",
        "outputId": "07258f47-bc1d-4156-b5f4-da1b37b252f8"
      },
      "outputs": [
        {
          "data": {
            "text/plain": [
              "no     36548\n",
              "yes     4640\n",
              "Name: y, dtype: int64"
            ]
          },
          "execution_count": 49,
          "metadata": {},
          "output_type": "execute_result"
        }
      ],
      "source": [
        "df[\"y\"].value_counts()"
      ]
    },
    {
      "cell_type": "code",
      "execution_count": 50,
      "metadata": {
        "colab": {
          "base_uri": "https://localhost:8080/",
          "height": 297
        },
        "id": "pwbWdlRFs6I9",
        "outputId": "18012deb-4853-4d9c-d280-716a2235ae1c"
      },
      "outputs": [
        {
          "data": {
            "text/plain": [
              "<AxesSubplot:xlabel='y', ylabel='count'>"
            ]
          },
          "execution_count": 50,
          "metadata": {},
          "output_type": "execute_result"
        },
        {
          "data": {
            "image/png": "[encoded data removed]",
            "text/plain": [
              "<Figure size 864x576 with 1 Axes>"
            ]
          },
          "metadata": {
            "needs_background": "light"
          },
          "output_type": "display_data"
        }
      ],
      "source": [
        "sns.countplot(x='y', data=df, palette='RdBu_r')"
      ]
    },
    {
      "cell_type": "code",
      "execution_count": 51,
      "metadata": {
        "id": "oDiV5_SmxaQ_"
      },
      "outputs": [],
      "source": [
        "# pandasql.sqldf(\"SELECT y, COUNT(y) FROM df GROUP BY y;\")"
      ]
    },
    {
      "cell_type": "code",
      "execution_count": 52,
      "metadata": {
        "id": "W_jJI1Bf1sdS"
      },
      "outputs": [],
      "source": [
        "# def countUnknown(col):\n",
        "#   print(col, pandasql.sqldf(f\"SELECT COUNT(*) FROM df WHERE `{col}` == 'unknown';\"))\n",
        "\n",
        "# for col in df.columns:\n",
        "#   countUnknown(col)"
      ]
    },
    {
      "cell_type": "markdown",
      "metadata": {
        "id": "EJeSd0uBvNXt"
      },
      "source": [
        "# 2. Impute missing "
      ]
    },
    {
      "cell_type": "markdown",
      "metadata": {
        "id": "M7AJlfy7vjY8"
      },
      "source": [
        "How many variables are there with all missing values?"
      ]
    },
    {
      "cell_type": "code",
      "execution_count": 53,
      "metadata": {
        "id": "feaaq1Lq9ygr"
      },
      "outputs": [],
      "source": [
        "df.replace('unknown', np.nan, inplace=True) # replace all unknown with NaN"
      ]
    },
    {
      "cell_type": "code",
      "execution_count": 54,
      "metadata": {
        "colab": {
          "base_uri": "https://localhost:8080/"
        },
        "id": "wWzcwyVY-Msx",
        "outputId": "25b13811-1f43-4405-c380-f1a280c654fa"
      },
      "outputs": [
        {
          "name": "stdout",
          "output_type": "stream",
          "text": [
            "Number of null values in each column:\n",
            "age                  0\n",
            "job                330\n",
            "marital             80\n",
            "education         1731\n",
            "default           8597\n",
            "housing            990\n",
            "loan               990\n",
            "contact              0\n",
            "month                0\n",
            "day_of_week          0\n",
            "duration             0\n",
            "campaign             0\n",
            "pdays                0\n",
            "previous             0\n",
            "poutcome             0\n",
            "emp.var.rate         0\n",
            "cons.price.idx       0\n",
            "cons.conf.idx        0\n",
            "euribor3m            0\n",
            "nr.employed          0\n",
            "y                    0\n",
            "dtype: int64\n"
          ]
        }
      ],
      "source": [
        "null_counts = df.isnull().sum()\n",
        "print(\"Number of null values in each column:\\n{}\".format(null_counts))"
      ]
    },
    {
      "cell_type": "markdown",
      "metadata": {
        "id": "ScKtQ4gI1nN3"
      },
      "source": [
        "Show missing values, for numeric variables, fill with mean, and if categorical variables, fill with mode."
      ]
    },
    {
      "cell_type": "code",
      "execution_count": 55,
      "metadata": {
        "colab": {
          "base_uri": "https://localhost:8080/"
        },
        "id": "ZFuGfIi5_PFF",
        "outputId": "94c5d0c4-1e62-45fd-f43d-64a3faf2fdb4"
      },
      "outputs": [
        {
          "name": "stdout",
          "output_type": "stream",
          "text": [
            "Number of null values in each column:\n",
            "age               0\n",
            "job               0\n",
            "marital           0\n",
            "education         0\n",
            "default           0\n",
            "housing           0\n",
            "loan              0\n",
            "contact           0\n",
            "month             0\n",
            "day_of_week       0\n",
            "duration          0\n",
            "campaign          0\n",
            "pdays             0\n",
            "previous          0\n",
            "poutcome          0\n",
            "emp.var.rate      0\n",
            "cons.price.idx    0\n",
            "cons.conf.idx     0\n",
            "euribor3m         0\n",
            "nr.employed       0\n",
            "y                 0\n",
            "dtype: int64\n"
          ]
        }
      ],
      "source": [
        "# impute category NaN with mode\n",
        "\n",
        "df.fillna(df.mode().iloc[0], inplace=True)\n",
        "\n",
        "null_counts = df.isnull().sum()\n",
        "print(\"Number of null values in each column:\\n{}\".format(null_counts))"
      ]
    },
    {
      "cell_type": "code",
      "execution_count": 56,
      "metadata": {
        "colab": {
          "base_uri": "https://localhost:8080/"
        },
        "id": "R7sfm0CNG-y9",
        "outputId": "2c447182-0792-4613-82c7-976282e8ed38"
      },
      "outputs": [
        {
          "data": {
            "text/plain": [
              "(41188, 16)"
            ]
          },
          "execution_count": 56,
          "metadata": {},
          "output_type": "execute_result"
        }
      ],
      "source": [
        "# drop flat value - same value more than 70%\n",
        "\n",
        "for i in df.columns:\n",
        "  if df[i].value_counts().max() > 0.7 * df.shape[0] and i != 'y':\n",
        "    del df[i]\n",
        "    \n",
        "df.shape"
      ]
    },
    {
      "cell_type": "code",
      "execution_count": 57,
      "metadata": {
        "colab": {
          "base_uri": "https://localhost:8080/"
        },
        "id": "dkxCJlA41zOb",
        "outputId": "8f7e6f32-e351-4cfe-b2bd-883dbe69366e"
      },
      "outputs": [
        {
          "name": "stdout",
          "output_type": "stream",
          "text": [
            "<class 'pandas.core.frame.DataFrame'>\n",
            "RangeIndex: 41188 entries, 0 to 41187\n",
            "Data columns (total 16 columns):\n",
            " #   Column          Non-Null Count  Dtype  \n",
            "---  ------          --------------  -----  \n",
            " 0   age             41188 non-null  int64  \n",
            " 1   job             41188 non-null  object \n",
            " 2   marital         41188 non-null  object \n",
            " 3   education       41188 non-null  object \n",
            " 4   housing         41188 non-null  object \n",
            " 5   contact         41188 non-null  object \n",
            " 6   month           41188 non-null  object \n",
            " 7   day_of_week     41188 non-null  object \n",
            " 8   duration        41188 non-null  int64  \n",
            " 9   campaign        41188 non-null  int64  \n",
            " 10  emp.var.rate    41188 non-null  float64\n",
            " 11  cons.price.idx  41188 non-null  float64\n",
            " 12  cons.conf.idx   41188 non-null  float64\n",
            " 13  euribor3m       41188 non-null  float64\n",
            " 14  nr.employed     41188 non-null  float64\n",
            " 15  y               41188 non-null  object \n",
            "dtypes: float64(5), int64(3), object(8)\n",
            "memory usage: 5.0+ MB\n"
          ]
        }
      ],
      "source": [
        "df.info()"
      ]
    },
    {
      "cell_type": "markdown",
      "metadata": {
        "id": "bs9Gxfw33p_v"
      },
      "source": [
        "# 3. Split train/test for 70%:30% with random_state=0 & stratify option"
      ]
    },
    {
      "cell_type": "code",
      "execution_count": 58,
      "metadata": {
        "id": "BJTU0sKgHR96"
      },
      "outputs": [],
      "source": [
        "# convert category to dummy\n",
        "\n",
        "# include target\n",
        "#            |\n",
        "#            V\n",
        "cat_cols = ['y', 'job', 'marital', 'education', 'housing', 'contact', 'month', 'day_of_week']\n",
        "df_with_dummy = pd.get_dummies(df[cat_cols], drop_first= True)\n",
        "df_with_dummy = pd.concat([df, df_with_dummy], axis=1)\n",
        "df_with_dummy = df_with_dummy.drop(cat_cols, axis=1)\n",
        "df = df_with_dummy"
      ]
    },
    {
      "cell_type": "code",
      "execution_count": 59,
      "metadata": {
        "colab": {
          "base_uri": "https://localhost:8080/"
        },
        "id": "78o-OEZZMPPE",
        "outputId": "0c8b6b2b-5baa-4340-d59a-4d996ae8819a"
      },
      "outputs": [
        {
          "name": "stdout",
          "output_type": "stream",
          "text": [
            "<class 'pandas.core.frame.DataFrame'>\n",
            "RangeIndex: 41188 entries, 0 to 41187\n",
            "Data columns (total 42 columns):\n",
            " #   Column                         Non-Null Count  Dtype  \n",
            "---  ------                         --------------  -----  \n",
            " 0   age                            41188 non-null  int64  \n",
            " 1   duration                       41188 non-null  int64  \n",
            " 2   campaign                       41188 non-null  int64  \n",
            " 3   emp.var.rate                   41188 non-null  float64\n",
            " 4   cons.price.idx                 41188 non-null  float64\n",
            " 5   cons.conf.idx                  41188 non-null  float64\n",
            " 6   euribor3m                      41188 non-null  float64\n",
            " 7   nr.employed                    41188 non-null  float64\n",
            " 8   y_yes                          41188 non-null  uint8  \n",
            " 9   job_blue-collar                41188 non-null  uint8  \n",
            " 10  job_entrepreneur               41188 non-null  uint8  \n",
            " 11  job_housemaid                  41188 non-null  uint8  \n",
            " 12  job_management                 41188 non-null  uint8  \n",
            " 13  job_retired                    41188 non-null  uint8  \n",
            " 14  job_self-employed              41188 non-null  uint8  \n",
            " 15  job_services                   41188 non-null  uint8  \n",
            " 16  job_student                    41188 non-null  uint8  \n",
            " 17  job_technician                 41188 non-null  uint8  \n",
            " 18  job_unemployed                 41188 non-null  uint8  \n",
            " 19  marital_married                41188 non-null  uint8  \n",
            " 20  marital_single                 41188 non-null  uint8  \n",
            " 21  education_basic.6y             41188 non-null  uint8  \n",
            " 22  education_basic.9y             41188 non-null  uint8  \n",
            " 23  education_high.school          41188 non-null  uint8  \n",
            " 24  education_illiterate           41188 non-null  uint8  \n",
            " 25  education_professional.course  41188 non-null  uint8  \n",
            " 26  education_university.degree    41188 non-null  uint8  \n",
            " 27  housing_yes                    41188 non-null  uint8  \n",
            " 28  contact_telephone              41188 non-null  uint8  \n",
            " 29  month_aug                      41188 non-null  uint8  \n",
            " 30  month_dec                      41188 non-null  uint8  \n",
            " 31  month_jul                      41188 non-null  uint8  \n",
            " 32  month_jun                      41188 non-null  uint8  \n",
            " 33  month_mar                      41188 non-null  uint8  \n",
            " 34  month_may                      41188 non-null  uint8  \n",
            " 35  month_nov                      41188 non-null  uint8  \n",
            " 36  month_oct                      41188 non-null  uint8  \n",
            " 37  month_sep                      41188 non-null  uint8  \n",
            " 38  day_of_week_mon                41188 non-null  uint8  \n",
            " 39  day_of_week_thu                41188 non-null  uint8  \n",
            " 40  day_of_week_tue                41188 non-null  uint8  \n",
            " 41  day_of_week_wed                41188 non-null  uint8  \n",
            "dtypes: float64(5), int64(3), uint8(34)\n",
            "memory usage: 3.8 MB\n"
          ]
        }
      ],
      "source": [
        "df.info()"
      ]
    },
    {
      "cell_type": "code",
      "execution_count": 60,
      "metadata": {
        "id": "j0gdvV1pC-P-"
      },
      "outputs": [],
      "source": [
        "from sklearn.model_selection import train_test_split\n",
        "\n",
        "y = df.pop('y_yes')\n",
        "X = df\n",
        "X_train, X_test, y_train, y_test = train_test_split(X, y, stratify = y, test_size = 0.30, random_state = 0)"
      ]
    },
    {
      "cell_type": "markdown",
      "metadata": {
        "id": "JimLKuDN3vSn"
      },
      "source": [
        "How much data is contained in the train set for each class?"
      ]
    },
    {
      "cell_type": "code",
      "execution_count": 61,
      "metadata": {
        "colab": {
          "base_uri": "https://localhost:8080/"
        },
        "id": "Wyl003QrDQcm",
        "outputId": "5a58cc73-6721-4b3d-f0d6-cd9c59221c2b"
      },
      "outputs": [
        {
          "data": {
            "text/plain": [
              "0    25583\n",
              "1     3248\n",
              "Name: y_yes, dtype: int64"
            ]
          },
          "execution_count": 61,
          "metadata": {},
          "output_type": "execute_result"
        }
      ],
      "source": [
        "y_train.value_counts()"
      ]
    },
    {
      "cell_type": "markdown",
      "metadata": {
        "id": "HvDyb2bs3xmA"
      },
      "source": [
        "  How much data is contained in the test set for each class?"
      ]
    },
    {
      "cell_type": "code",
      "execution_count": 62,
      "metadata": {
        "colab": {
          "base_uri": "https://localhost:8080/"
        },
        "id": "-oTZwhw2Dd_F",
        "outputId": "18ea078a-21ef-4ffb-c7bb-fc66a36e2ca9"
      },
      "outputs": [
        {
          "data": {
            "text/plain": [
              "0    10965\n",
              "1     1392\n",
              "Name: y_yes, dtype: int64"
            ]
          },
          "execution_count": 62,
          "metadata": {},
          "output_type": "execute_result"
        }
      ],
      "source": [
        "y_test.value_counts()"
      ]
    },
    {
      "cell_type": "markdown",
      "metadata": {
        "id": "Qx1kBzLDX776"
      },
      "source": [
        "# 5. Model1: Build a model that uses all variables."
      ]
    },
    {
      "cell_type": "code",
      "execution_count": 63,
      "metadata": {
        "id": "T6VyABWTb4k6"
      },
      "outputs": [],
      "source": [
        "from sklearn.model_selection import train_test_split\n",
        "from sklearn.preprocessing import StandardScaler\n",
        "from sklearn.linear_model import LogisticRegression\n",
        "from sklearn.metrics import classification_report, confusion_matrix"
      ]
    },
    {
      "cell_type": "code",
      "execution_count": 24,
      "metadata": {
        "id": "z3QX-aqnXpl9"
      },
      "outputs": [],
      "source": [
        "sc = StandardScaler()\n",
        "X_train = sc.fit_transform(X_train)\n",
        "X_test = sc.transform(X_test)"
      ]
    },
    {
      "cell_type": "code",
      "execution_count": 64,
      "metadata": {
        "id": "iaxl1lonXuvH"
      },
      "outputs": [
        {
          "name": "stderr",
          "output_type": "stream",
          "text": [
            "C:\\Users\\Thanin\\AppData\\Local\\Programs\\Python\\Python310\\lib\\site-packages\\sklearn\\linear_model\\_logistic.py:814: ConvergenceWarning: lbfgs failed to converge (status=1):\n",
            "STOP: TOTAL NO. of ITERATIONS REACHED LIMIT.\n",
            "\n",
            "Increase the number of iterations (max_iter) or scale the data as shown in:\n",
            "    https://scikit-learn.org/stable/modules/preprocessing.html\n",
            "Please also refer to the documentation for alternative solver options:\n",
            "    https://scikit-learn.org/stable/modules/linear_model.html#logistic-regression\n",
            "  n_iter_i = _check_optimize_result(\n"
          ]
        }
      ],
      "source": [
        "model_1 = LogisticRegression(random_state=0)\n",
        "model_1.fit(X_train, y_train)\n",
        "y_pred = model_1.predict(X_test)"
      ]
    },
    {
      "cell_type": "code",
      "execution_count": 65,
      "metadata": {
        "colab": {
          "base_uri": "https://localhost:8080/"
        },
        "id": "gK8MWiItXwXj",
        "outputId": "008b60b5-7be2-466a-fd57-8cdc7965d5ac"
      },
      "outputs": [
        {
          "name": "stdout",
          "output_type": "stream",
          "text": [
            "              precision    recall  f1-score   support\n",
            "\n",
            "           0     0.9205    0.9762    0.9475     10965\n",
            "           1     0.6415    0.3355    0.4406      1392\n",
            "\n",
            "    accuracy                         0.9040     12357\n",
            "   macro avg     0.7810    0.6558    0.6940     12357\n",
            "weighted avg     0.8890    0.9040    0.8904     12357\n",
            "\n",
            "\n",
            "\n",
            "[[10704   261]\n",
            " [  925   467]]\n"
          ]
        }
      ],
      "source": [
        "print(classification_report(y_test, y_pred, digits=4))\n",
        "print('\\n')\n",
        "print(confusion_matrix(y_test, y_pred))"
      ]
    },
    {
      "cell_type": "markdown",
      "metadata": {
        "id": "uwdyzmkJaZsw"
      },
      "source": [
        "# 6. Model2: Select a variable using backward selection, leaving 5 initial variables left."
      ]
    },
    {
      "cell_type": "code",
      "execution_count": 66,
      "metadata": {
        "colab": {
          "base_uri": "https://localhost:8080/",
          "height": 312
        },
        "id": "gOfm0WAyaivh",
        "outputId": "c86bd044-3556-4a59-8a20-32dc24766848"
      },
      "outputs": [
        {
          "name": "stderr",
          "output_type": "stream",
          "text": [
            "[Parallel(n_jobs=-1)]: Using backend LokyBackend with 12 concurrent workers.\n",
            "[Parallel(n_jobs=-1)]: Done  17 tasks      | elapsed:  1.1min\n",
            "[Parallel(n_jobs=-1)]: Done  39 out of  41 | elapsed:  1.9min remaining:    5.7s\n",
            "[Parallel(n_jobs=-1)]: Done  41 out of  41 | elapsed:  2.1min finished\n",
            "\n",
            "[2022-02-07 22:35:07] Features: 40/5 -- score: 0.9068017457442779[Parallel(n_jobs=-1)]: Using backend LokyBackend with 12 concurrent workers.\n",
            "[Parallel(n_jobs=-1)]: Done  17 tasks      | elapsed:  1.3min\n",
            "[Parallel(n_jobs=-1)]: Done  38 out of  40 | elapsed:  2.0min remaining:    6.3s\n",
            "[Parallel(n_jobs=-1)]: Done  40 out of  40 | elapsed:  2.2min finished\n",
            "\n",
            "[2022-02-07 22:37:22] Features: 39/5 -- score: 0.9065936231844309[Parallel(n_jobs=-1)]: Using backend LokyBackend with 12 concurrent workers.\n",
            "[Parallel(n_jobs=-1)]: Done  36 out of  39 | elapsed:  1.8min remaining:    8.8s\n",
            "[Parallel(n_jobs=-1)]: Done  39 out of  39 | elapsed:  1.8min finished\n",
            "\n",
            "[2022-02-07 22:39:13] Features: 38/5 -- score: 0.9069057498856778[Parallel(n_jobs=-1)]: Using backend LokyBackend with 12 concurrent workers.\n",
            "[Parallel(n_jobs=-1)]: Done  35 out of  38 | elapsed:  1.0min remaining:    5.3s\n",
            "[Parallel(n_jobs=-1)]: Done  38 out of  38 | elapsed:  1.2min finished\n",
            "\n",
            "[2022-02-07 22:40:26] Features: 37/5 -- score: 0.9075301055360553[Parallel(n_jobs=-1)]: Using backend LokyBackend with 12 concurrent workers.\n",
            "[Parallel(n_jobs=-1)]: Done  33 out of  37 | elapsed:   58.5s remaining:    7.0s\n",
            "[Parallel(n_jobs=-1)]: Done  37 out of  37 | elapsed:  1.2min finished\n",
            "\n",
            "[2022-02-07 22:41:40] Features: 36/5 -- score: 0.907738228095902[Parallel(n_jobs=-1)]: Using backend LokyBackend with 12 concurrent workers.\n",
            "[Parallel(n_jobs=-1)]: Done  32 out of  36 | elapsed:  1.1min remaining:    8.3s\n",
            "[Parallel(n_jobs=-1)]: Done  36 out of  36 | elapsed:  1.4min finished\n",
            "\n",
            "[2022-02-07 22:43:02] Features: 35/5 -- score: 0.9080850890046775[Parallel(n_jobs=-1)]: Using backend LokyBackend with 12 concurrent workers.\n",
            "[Parallel(n_jobs=-1)]: Done  30 out of  35 | elapsed:   56.3s remaining:    9.3s\n",
            "[Parallel(n_jobs=-1)]: Done  35 out of  35 | elapsed:  1.2min finished\n",
            "\n",
            "[2022-02-07 22:44:12] Features: 34/5 -- score: 0.9078075702047501[Parallel(n_jobs=-1)]: Using backend LokyBackend with 12 concurrent workers.\n",
            "[Parallel(n_jobs=-1)]: Done  29 out of  34 | elapsed:   59.7s remaining:   10.2s\n",
            "[Parallel(n_jobs=-1)]: Done  34 out of  34 | elapsed:  1.2min finished\n",
            "\n",
            "[2022-02-07 22:45:24] Features: 33/5 -- score: 0.907876984488575[Parallel(n_jobs=-1)]: Using backend LokyBackend with 12 concurrent workers.\n",
            "[Parallel(n_jobs=-1)]: Done  27 out of  33 | elapsed:   43.1s remaining:    9.5s\n",
            "[Parallel(n_jobs=-1)]: Done  33 out of  33 | elapsed:   55.0s finished\n",
            "\n",
            "[2022-02-07 22:46:19] Features: 32/5 -- score: 0.9079116705794525[Parallel(n_jobs=-1)]: Using backend LokyBackend with 12 concurrent workers.\n",
            "[Parallel(n_jobs=-1)]: Done  26 out of  32 | elapsed:   54.6s remaining:   12.5s\n",
            "[Parallel(n_jobs=-1)]: Done  32 out of  32 | elapsed:  1.1min finished\n",
            "\n",
            "[2022-02-07 22:47:25] Features: 31/5 -- score: 0.9079810367466263[Parallel(n_jobs=-1)]: Using backend LokyBackend with 12 concurrent workers.\n",
            "[Parallel(n_jobs=-1)]: Done  24 out of  31 | elapsed:   43.7s remaining:   12.7s\n",
            "[Parallel(n_jobs=-1)]: Done  31 out of  31 | elapsed:   55.3s finished\n",
            "\n",
            "[2022-02-07 22:48:21] Features: 30/5 -- score: 0.907876984488575[Parallel(n_jobs=-1)]: Using backend LokyBackend with 12 concurrent workers.\n",
            "[Parallel(n_jobs=-1)]: Done  23 out of  30 | elapsed:   44.2s remaining:   13.4s\n",
            "[Parallel(n_jobs=-1)]: Done  30 out of  30 | elapsed:   54.6s finished\n",
            "\n",
            "[2022-02-07 22:49:16] Features: 29/5 -- score: 0.9077382461396463[Parallel(n_jobs=-1)]: Using backend LokyBackend with 12 concurrent workers.\n",
            "[Parallel(n_jobs=-1)]: Done  21 out of  29 | elapsed:   31.9s remaining:   12.1s\n",
            "[Parallel(n_jobs=-1)]: Done  29 out of  29 | elapsed:   40.1s finished\n",
            "\n",
            "[2022-02-07 22:49:56] Features: 28/5 -- score: 0.9077729382451052[Parallel(n_jobs=-1)]: Using backend LokyBackend with 12 concurrent workers.\n",
            "[Parallel(n_jobs=-1)]: Done  20 out of  28 | elapsed:   38.1s remaining:   15.2s\n",
            "[Parallel(n_jobs=-1)]: Done  28 out of  28 | elapsed:   47.8s finished\n",
            "\n",
            "[2022-02-07 22:50:44] Features: 27/5 -- score: 0.9079116645648713[Parallel(n_jobs=-1)]: Using backend LokyBackend with 12 concurrent workers.\n",
            "[Parallel(n_jobs=-1)]: Done  18 out of  27 | elapsed:   32.9s remaining:   16.4s\n",
            "[Parallel(n_jobs=-1)]: Done  27 out of  27 | elapsed:   41.1s finished\n",
            "\n",
            "[2022-02-07 22:51:25] Features: 26/5 -- score: 0.9079116886231967[Parallel(n_jobs=-1)]: Using backend LokyBackend with 12 concurrent workers.\n",
            "[Parallel(n_jobs=-1)]: Done  17 out of  26 | elapsed:   30.6s remaining:   16.2s\n",
            "[Parallel(n_jobs=-1)]: Done  26 out of  26 | elapsed:   39.0s finished\n",
            "\n",
            "[2022-02-07 22:52:05] Features: 25/5 -- score: 0.90815444915727[Parallel(n_jobs=-1)]: Using backend LokyBackend with 12 concurrent workers.\n",
            "[Parallel(n_jobs=-1)]: Done  15 out of  25 | elapsed:   24.5s remaining:   16.3s\n",
            "[Parallel(n_jobs=-1)]: Done  25 out of  25 | elapsed:   33.8s finished\n",
            "\n",
            "[2022-02-07 22:52:39] Features: 24/5 -- score: 0.9079116765940339[Parallel(n_jobs=-1)]: Using backend LokyBackend with 12 concurrent workers.\n",
            "[Parallel(n_jobs=-1)]: Done  14 out of  24 | elapsed:   24.4s remaining:   17.4s\n",
            "[Parallel(n_jobs=-1)]: Done  24 out of  24 | elapsed:   33.9s finished\n",
            "\n",
            "[2022-02-07 22:53:13] Features: 23/5 -- score: 0.9079116705794525[Parallel(n_jobs=-1)]: Using backend LokyBackend with 12 concurrent workers.\n",
            "[Parallel(n_jobs=-1)]: Done  12 out of  23 | elapsed:   21.5s remaining:   19.7s\n",
            "[Parallel(n_jobs=-1)]: Done  23 out of  23 | elapsed:   34.2s finished\n",
            "\n",
            "[2022-02-07 22:53:47] Features: 22/5 -- score: 0.9079810547903705[Parallel(n_jobs=-1)]: Using backend LokyBackend with 12 concurrent workers.\n",
            "[Parallel(n_jobs=-1)]: Done  11 out of  22 | elapsed:   21.0s remaining:   21.0s\n",
            "[Parallel(n_jobs=-1)]: Done  22 out of  22 | elapsed:   34.9s finished\n",
            "\n",
            "[2022-02-07 22:54:22] Features: 21/5 -- score: 0.9075995077907173[Parallel(n_jobs=-1)]: Using backend LokyBackend with 12 concurrent workers.\n",
            "[Parallel(n_jobs=-1)]: Done   9 out of  21 | elapsed:   10.3s remaining:   13.8s\n",
            "[Parallel(n_jobs=-1)]: Done  21 out of  21 | elapsed:   23.2s finished\n",
            "\n",
            "[2022-02-07 22:54:46] Features: 20/5 -- score: 0.9077729081721981[Parallel(n_jobs=-1)]: Using backend LokyBackend with 12 concurrent workers.\n",
            "[Parallel(n_jobs=-1)]: Done   8 out of  20 | elapsed:   14.6s remaining:   21.9s\n",
            "[Parallel(n_jobs=-1)]: Done  20 out of  20 | elapsed:   25.1s finished\n",
            "\n",
            "[2022-02-07 22:55:11] Features: 19/5 -- score: 0.9078076002776572[Parallel(n_jobs=-1)]: Using backend LokyBackend with 12 concurrent workers.\n",
            "[Parallel(n_jobs=-1)]: Done   6 out of  19 | elapsed:   13.7s remaining:   29.8s\n",
            "[Parallel(n_jobs=-1)]: Done  16 out of  19 | elapsed:   20.3s remaining:    3.7s\n",
            "[Parallel(n_jobs=-1)]: Done  19 out of  19 | elapsed:   24.2s finished\n",
            "\n",
            "[2022-02-07 22:55:35] Features: 18/5 -- score: 0.9073913671871263[Parallel(n_jobs=-1)]: Using backend LokyBackend with 12 concurrent workers.\n",
            "[Parallel(n_jobs=-1)]: Done   5 out of  18 | elapsed:   11.5s remaining:   30.2s\n",
            "[Parallel(n_jobs=-1)]: Done  15 out of  18 | elapsed:   18.9s remaining:    3.7s\n",
            "[Parallel(n_jobs=-1)]: Done  18 out of  18 | elapsed:   22.3s finished\n",
            "\n",
            "[2022-02-07 22:55:58] Features: 17/5 -- score: 0.9074954976347358[Parallel(n_jobs=-1)]: Using backend LokyBackend with 12 concurrent workers.\n",
            "[Parallel(n_jobs=-1)]: Done   3 out of  17 | elapsed:    7.6s remaining:   35.7s\n",
            "[Parallel(n_jobs=-1)]: Done  12 out of  17 | elapsed:   11.7s remaining:    4.8s\n",
            "[Parallel(n_jobs=-1)]: Done  17 out of  17 | elapsed:   13.6s finished\n",
            "\n",
            "[2022-02-07 22:56:12] Features: 16/5 -- score: 0.9075648577873283[Parallel(n_jobs=-1)]: Using backend LokyBackend with 12 concurrent workers.\n",
            "[Parallel(n_jobs=-1)]: Done   2 out of  16 | elapsed:    7.5s remaining:   52.9s\n",
            "[Parallel(n_jobs=-1)]: Done  11 out of  16 | elapsed:    9.9s remaining:    4.4s\n",
            "[Parallel(n_jobs=-1)]: Done  16 out of  16 | elapsed:   12.7s finished\n",
            "\n",
            "[2022-02-07 22:56:25] Features: 15/5 -- score: 0.9072873630457263[Parallel(n_jobs=-1)]: Using backend LokyBackend with 12 concurrent workers.\n",
            "[Parallel(n_jobs=-1)]: Done   8 out of  15 | elapsed:    8.5s remaining:    7.4s\n",
            "[Parallel(n_jobs=-1)]: Done  15 out of  15 | elapsed:   10.7s finished\n",
            "\n",
            "[2022-02-07 22:56:35] Features: 14/5 -- score: 0.9077729562888492[Parallel(n_jobs=-1)]: Using backend LokyBackend with 12 concurrent workers.\n",
            "[Parallel(n_jobs=-1)]: Done   7 out of  14 | elapsed:    7.1s remaining:    7.1s\n",
            "[Parallel(n_jobs=-1)]: Done  14 out of  14 | elapsed:    9.0s finished\n",
            "\n",
            "[2022-02-07 22:56:45] Features: 13/5 -- score: 0.9077729623034306[Parallel(n_jobs=-1)]: Using backend LokyBackend with 12 concurrent workers.\n",
            "[Parallel(n_jobs=-1)]: Done   4 out of  13 | elapsed:    4.7s remaining:   10.8s\n",
            "[Parallel(n_jobs=-1)]: Done  11 out of  13 | elapsed:    5.5s remaining:    0.9s\n",
            "[Parallel(n_jobs=-1)]: Done  13 out of  13 | elapsed:    6.1s finished\n",
            "\n",
            "[2022-02-07 22:56:51] Features: 12/5 -- score: 0.9068364498788994[Parallel(n_jobs=-1)]: Using backend LokyBackend with 12 concurrent workers.\n",
            "[Parallel(n_jobs=-1)]: Done   3 out of  12 | elapsed:    5.1s remaining:   15.6s\n",
            "[Parallel(n_jobs=-1)]: Done  10 out of  12 | elapsed:    5.8s remaining:    1.1s\n",
            "[Parallel(n_jobs=-1)]: Done  12 out of  12 | elapsed:    6.8s finished\n",
            "\n",
            "[2022-02-07 22:56:58] Features: 11/5 -- score: 0.906767071682563[Parallel(n_jobs=-1)]: Using backend LokyBackend with 12 concurrent workers.\n",
            "[Parallel(n_jobs=-1)]: Done   6 out of  11 | elapsed:    5.0s remaining:    4.1s\n",
            "[Parallel(n_jobs=-1)]: Done  11 out of  11 | elapsed:    5.6s finished\n",
            "\n",
            "[2022-02-07 22:57:04] Features: 10/5 -- score: 0.9071486427405416[Parallel(n_jobs=-1)]: Using backend LokyBackend with 12 concurrent workers.\n",
            "[Parallel(n_jobs=-1)]: Done   5 out of  10 | elapsed:    4.3s remaining:    4.3s\n",
            "[Parallel(n_jobs=-1)]: Done  10 out of  10 | elapsed:    5.0s finished\n",
            "\n",
            "[2022-02-07 22:57:09] Features: 9/5 -- score: 0.9073567472566442[Parallel(n_jobs=-1)]: Using backend LokyBackend with 12 concurrent workers.\n",
            "[Parallel(n_jobs=-1)]: Done   6 out of   9 | elapsed:    2.5s remaining:    1.2s\n",
            "[Parallel(n_jobs=-1)]: Done   9 out of   9 | elapsed:    2.7s finished\n",
            "\n",
            "[2022-02-07 22:57:12] Features: 8/5 -- score: 0.906489576940961[Parallel(n_jobs=-1)]: Using backend LokyBackend with 12 concurrent workers.\n",
            "[Parallel(n_jobs=-1)]: Done   5 out of   8 | elapsed:    1.7s remaining:    1.0s\n",
            "[Parallel(n_jobs=-1)]: Done   8 out of   8 | elapsed:    1.8s finished\n",
            "\n",
            "[2022-02-07 22:57:14] Features: 7/5 -- score: 0.9059346355744085[Parallel(n_jobs=-1)]: Using backend LokyBackend with 12 concurrent workers.\n",
            "[Parallel(n_jobs=-1)]: Done   4 out of   7 | elapsed:    1.0s remaining:    0.7s\n",
            "[Parallel(n_jobs=-1)]: Done   7 out of   7 | elapsed:    1.2s finished\n",
            "\n",
            "[2022-02-07 22:57:15] Features: 6/5 -- score: 0.9065243111484896[Parallel(n_jobs=-1)]: Using backend LokyBackend with 12 concurrent workers.\n",
            "[Parallel(n_jobs=-1)]: Done   3 out of   6 | elapsed:    0.6s remaining:    0.6s\n",
            "[Parallel(n_jobs=-1)]: Done   6 out of   6 | elapsed:    0.8s finished\n",
            "\n",
            "[2022-02-07 22:57:16] Features: 5/5 -- score: 0.9048247047246522"
          ]
        }
      ],
      "source": [
        "from mlxtend.feature_selection import SequentialFeatureSelector as sfs\n",
        "\n",
        "log = LogisticRegression(solver='lbfgs', max_iter=5000, random_state=0)\n",
        "sbs = sfs(log, k_features = 5, forward=False, floating=False, verbose=2, n_jobs=-1, scoring='accuracy', cv=5)\n",
        "sbs = sbs.fit(X_train,y_train)"
      ]
    },
    {
      "cell_type": "code",
      "execution_count": 92,
      "metadata": {},
      "outputs": [
        {
          "data": {
            "text/plain": [
              "LogisticRegression(max_iter=5000, random_state=0)"
            ]
          },
          "execution_count": 92,
          "metadata": {},
          "output_type": "execute_result"
        }
      ],
      "source": [
        "feat_cols = list(sbs.k_feature_idx_)\n",
        "\n",
        "model_2 = LogisticRegression(solver='lbfgs', max_iter=5000, random_state=0)\n",
        "model_2.fit(X_train.iloc[:,feat_cols],y_train)"
      ]
    },
    {
      "cell_type": "code",
      "execution_count": null,
      "metadata": {},
      "outputs": [],
      "source": [
        "feat_cols"
      ]
    },
    {
      "cell_type": "code",
      "execution_count": 84,
      "metadata": {},
      "outputs": [
        {
          "name": "stdout",
          "output_type": "stream",
          "text": [
            "              precision    recall  f1-score   support\n",
            "\n",
            "           0     0.9223    0.9759    0.9484     10965\n",
            "           1     0.6503    0.3527    0.4574      1392\n",
            "\n",
            "    accuracy                         0.9057     12357\n",
            "   macro avg     0.7863    0.6643    0.7029     12357\n",
            "weighted avg     0.8917    0.9057    0.8931     12357\n",
            "\n",
            "\n",
            "\n",
            "[[10701   264]\n",
            " [  901   491]]\n"
          ]
        }
      ],
      "source": [
        "y_pred = model_2.predict(X_test.iloc[:,feat_cols])\n",
        "print(classification_report(y_test, y_pred, digits=4))\n",
        "print('\\n')\n",
        "print(confusion_matrix(y_test, y_pred))"
      ]
    },
    {
      "cell_type": "markdown",
      "metadata": {},
      "source": [
        "# 7. Model3: Build a model in your own version, which gets the macro F1 value more accurate than Model1 & Model2."
      ]
    },
    {
      "cell_type": "code",
      "execution_count": 97,
      "metadata": {},
      "outputs": [
        {
          "name": "stderr",
          "output_type": "stream",
          "text": [
            "[Parallel(n_jobs=-1)]: Using backend LokyBackend with 12 concurrent workers.\n",
            "[Parallel(n_jobs=-1)]: Done  17 tasks      | elapsed:    0.5s\n",
            "[Parallel(n_jobs=-1)]: Done  39 out of  41 | elapsed:    1.0s remaining:    0.0s\n",
            "[Parallel(n_jobs=-1)]: Done  41 out of  41 | elapsed:    1.0s finished\n",
            "\n",
            "[2022-02-07 23:39:46] Features: 1/20 -- score: 0.8927889259046277[Parallel(n_jobs=-1)]: Using backend LokyBackend with 12 concurrent workers.\n",
            "[Parallel(n_jobs=-1)]: Done  17 tasks      | elapsed:    1.4s\n",
            "[Parallel(n_jobs=-1)]: Done  38 out of  40 | elapsed:    2.9s remaining:    0.1s\n",
            "[Parallel(n_jobs=-1)]: Done  40 out of  40 | elapsed:    3.0s finished\n",
            "\n",
            "[2022-02-07 23:39:50] Features: 2/20 -- score: 0.8967431643229947[Parallel(n_jobs=-1)]: Using backend LokyBackend with 12 concurrent workers.\n",
            "[Parallel(n_jobs=-1)]: Done  36 out of  39 | elapsed:    4.1s remaining:    0.3s\n",
            "[Parallel(n_jobs=-1)]: Done  39 out of  39 | elapsed:    4.2s finished\n",
            "\n",
            "[2022-02-07 23:39:54] Features: 3/20 -- score: 0.8977837771222286[Parallel(n_jobs=-1)]: Using backend LokyBackend with 12 concurrent workers.\n",
            "[Parallel(n_jobs=-1)]: Done  35 out of  38 | elapsed:    5.0s remaining:    0.3s\n",
            "[Parallel(n_jobs=-1)]: Done  38 out of  38 | elapsed:    5.2s finished\n",
            "\n",
            "[2022-02-07 23:39:59] Features: 4/20 -- score: 0.9011828636636944[Parallel(n_jobs=-1)]: Using backend LokyBackend with 12 concurrent workers.\n",
            "[Parallel(n_jobs=-1)]: Done  33 out of  37 | elapsed:    9.0s remaining:    1.0s\n",
            "[Parallel(n_jobs=-1)]: Done  37 out of  37 | elapsed:    9.3s finished\n",
            "\n",
            "[2022-02-07 23:40:09] Features: 5/20 -- score: 0.9029863298789789[Parallel(n_jobs=-1)]: Using backend LokyBackend with 12 concurrent workers.\n",
            "[Parallel(n_jobs=-1)]: Done  32 out of  36 | elapsed:   13.6s remaining:    1.6s\n",
            "[Parallel(n_jobs=-1)]: Done  36 out of  36 | elapsed:   13.8s finished\n",
            "\n",
            "[2022-02-07 23:40:23] Features: 6/20 -- score: 0.9036106614710306[Parallel(n_jobs=-1)]: Using backend LokyBackend with 12 concurrent workers.\n",
            "[Parallel(n_jobs=-1)]: Done  30 out of  35 | elapsed:   20.0s remaining:    3.3s\n",
            "[Parallel(n_jobs=-1)]: Done  35 out of  35 | elapsed:   20.5s finished\n",
            "\n",
            "[2022-02-07 23:40:43] Features: 7/20 -- score: 0.9039575103506434[Parallel(n_jobs=-1)]: Using backend LokyBackend with 12 concurrent workers.\n",
            "[Parallel(n_jobs=-1)]: Done  29 out of  34 | elapsed:   23.3s remaining:    3.9s\n",
            "[Parallel(n_jobs=-1)]: Done  34 out of  34 | elapsed:   24.7s finished\n",
            "\n",
            "[2022-02-07 23:41:08] Features: 8/20 -- score: 0.9039921964415211[Parallel(n_jobs=-1)]: Using backend LokyBackend with 12 concurrent workers.\n",
            "[Parallel(n_jobs=-1)]: Done  27 out of  33 | elapsed:   38.0s remaining:    8.4s\n",
            "[Parallel(n_jobs=-1)]: Done  33 out of  33 | elapsed:   40.2s finished\n",
            "\n",
            "[2022-02-07 23:41:49] Features: 9/20 -- score: 0.9042696671247974[Parallel(n_jobs=-1)]: Using backend LokyBackend with 12 concurrent workers.\n",
            "[Parallel(n_jobs=-1)]: Done  26 out of  32 | elapsed:   40.4s remaining:    9.3s\n",
            "[Parallel(n_jobs=-1)]: Done  32 out of  32 | elapsed:   42.8s finished\n",
            "\n",
            "[2022-02-07 23:42:32] Features: 10/20 -- score: 0.904547113749748[Parallel(n_jobs=-1)]: Using backend LokyBackend with 12 concurrent workers.\n",
            "[Parallel(n_jobs=-1)]: Done  24 out of  31 | elapsed:  1.0min remaining:   17.6s\n",
            "[Parallel(n_jobs=-1)]: Done  31 out of  31 | elapsed:  1.1min finished\n",
            "\n",
            "[2022-02-07 23:43:37] Features: 11/20 -- score: 0.9049980148874122[Parallel(n_jobs=-1)]: Using backend LokyBackend with 12 concurrent workers.\n",
            "[Parallel(n_jobs=-1)]: Done  23 out of  30 | elapsed:   40.6s remaining:   12.3s\n",
            "[Parallel(n_jobs=-1)]: Done  30 out of  30 | elapsed:   44.8s finished\n",
            "\n",
            "[2022-02-07 23:44:22] Features: 12/20 -- score: 0.9052408475964621[Parallel(n_jobs=-1)]: Using backend LokyBackend with 12 concurrent workers.\n",
            "[Parallel(n_jobs=-1)]: Done  21 out of  29 | elapsed:   56.3s remaining:   21.4s\n",
            "[Parallel(n_jobs=-1)]: Done  29 out of  29 | elapsed:  1.1min finished\n",
            "\n",
            "[2022-02-07 23:45:27] Features: 13/20 -- score: 0.9056917727924517[Parallel(n_jobs=-1)]: Using backend LokyBackend with 12 concurrent workers.\n",
            "[Parallel(n_jobs=-1)]: Done  20 out of  28 | elapsed:   58.0s remaining:   23.1s\n",
            "[Parallel(n_jobs=-1)]: Done  28 out of  28 | elapsed:  1.1min finished\n",
            "\n",
            "[2022-02-07 23:46:34] Features: 14/20 -- score: 0.9056917727924517[Parallel(n_jobs=-1)]: Using backend LokyBackend with 12 concurrent workers.\n",
            "[Parallel(n_jobs=-1)]: Done  18 out of  27 | elapsed:  1.2min remaining:   36.3s\n",
            "[Parallel(n_jobs=-1)]: Done  27 out of  27 | elapsed:  1.3min finished\n",
            "\n",
            "[2022-02-07 23:47:53] Features: 15/20 -- score: 0.9056570987307369[Parallel(n_jobs=-1)]: Using backend LokyBackend with 12 concurrent workers.\n",
            "[Parallel(n_jobs=-1)]: Done  17 out of  26 | elapsed:   48.9s remaining:   25.9s\n",
            "[Parallel(n_jobs=-1)]: Done  26 out of  26 | elapsed:   55.0s finished\n",
            "\n",
            "[2022-02-07 23:48:49] Features: 16/20 -- score: 0.9058305171559619[Parallel(n_jobs=-1)]: Using backend LokyBackend with 12 concurrent workers.\n",
            "[Parallel(n_jobs=-1)]: Done  15 out of  25 | elapsed:  1.2min remaining:   47.8s\n",
            "[Parallel(n_jobs=-1)]: Done  25 out of  25 | elapsed:  1.4min finished\n",
            "\n",
            "[2022-02-07 23:50:13] Features: 17/20 -- score: 0.9056570987307369[Parallel(n_jobs=-1)]: Using backend LokyBackend with 12 concurrent workers.\n",
            "[Parallel(n_jobs=-1)]: Done  14 out of  24 | elapsed:  1.0min remaining:   44.2s\n",
            "[Parallel(n_jobs=-1)]: Done  24 out of  24 | elapsed:  1.3min finished\n",
            "\n",
            "[2022-02-07 23:51:33] Features: 18/20 -- score: 0.9056224246690221[Parallel(n_jobs=-1)]: Using backend LokyBackend with 12 concurrent workers.\n",
            "[Parallel(n_jobs=-1)]: Done  12 out of  23 | elapsed:   54.8s remaining:   50.2s\n",
            "[Parallel(n_jobs=-1)]: Done  23 out of  23 | elapsed:  1.4min finished\n",
            "\n",
            "[2022-02-07 23:52:56] Features: 19/20 -- score: 0.9055877385781447[Parallel(n_jobs=-1)]: Using backend LokyBackend with 12 concurrent workers.\n",
            "[Parallel(n_jobs=-1)]: Done  11 out of  22 | elapsed:   50.5s remaining:   50.5s\n",
            "[Parallel(n_jobs=-1)]: Done  22 out of  22 | elapsed:  1.4min finished\n",
            "\n",
            "[2022-02-07 23:54:18] Features: 20/20 -- score: 0.905344941956583"
          ]
        }
      ],
      "source": [
        "log = LogisticRegression(solver='lbfgs', max_iter=5000)\n",
        "sbs = sfs(log, k_features = 20, forward=True, floating=False, verbose=2, n_jobs=-1, scoring='accuracy', cv=5)\n",
        "sbs = sbs.fit(X_train,y_train)"
      ]
    },
    {
      "cell_type": "code",
      "execution_count": 98,
      "metadata": {},
      "outputs": [
        {
          "data": {
            "text/plain": [
              "LogisticRegression(max_iter=5000, random_state=0)"
            ]
          },
          "execution_count": 98,
          "metadata": {},
          "output_type": "execute_result"
        }
      ],
      "source": [
        "feat_cols = list(sbs.k_feature_idx_)\n",
        "\n",
        "model_3 = LogisticRegression(solver='lbfgs', max_iter=5000, random_state=0)\n",
        "model_3.fit(X_train.iloc[:,feat_cols],y_train)"
      ]
    },
    {
      "cell_type": "code",
      "execution_count": 99,
      "metadata": {},
      "outputs": [
        {
          "data": {
            "text/plain": [
              "[0, 1, 3, 5, 6, 8, 9, 10, 13, 14, 20, 21, 23, 25, 27, 28, 31, 33, 37, 38]"
            ]
          },
          "execution_count": 99,
          "metadata": {},
          "output_type": "execute_result"
        }
      ],
      "source": [
        "feat_cols"
      ]
    },
    {
      "cell_type": "code",
      "execution_count": 100,
      "metadata": {},
      "outputs": [
        {
          "name": "stdout",
          "output_type": "stream",
          "text": [
            "              precision    recall  f1-score   support\n",
            "\n",
            "           0     0.9233    0.9733    0.9476     10965\n",
            "           1     0.6328    0.3628    0.4612      1392\n",
            "\n",
            "    accuracy                         0.9045     12357\n",
            "   macro avg     0.7780    0.6680    0.7044     12357\n",
            "weighted avg     0.8905    0.9045    0.8928     12357\n",
            "\n",
            "\n",
            "\n",
            "[[10672   293]\n",
            " [  887   505]]\n"
          ]
        }
      ],
      "source": [
        "y_pred = model_3.predict(X_test.iloc[:,feat_cols])\n",
        "print(classification_report(y_test, y_pred, digits=4))\n",
        "print('\\n')\n",
        "print(confusion_matrix(y_test, y_pred))"
      ]
    }
  ],
  "metadata": {
    "colab": {
      "collapsed_sections": [],
      "name": "[Assignment 4] ML1 Bank Marketing Dataset",
      "provenance": []
    },
    "kernelspec": {
      "display_name": "Python 3",
      "name": "python3"
    },
    "language_info": {
      "codemirror_mode": {
        "name": "ipython",
        "version": 3
      },
      "file_extension": ".py",
      "mimetype": "text/x-python",
      "name": "python",
      "nbconvert_exporter": "python",
      "pygments_lexer": "ipython3",
      "version": "3.10.1"
    }
  },
  "nbformat": 4,
  "nbformat_minor": 0
}
