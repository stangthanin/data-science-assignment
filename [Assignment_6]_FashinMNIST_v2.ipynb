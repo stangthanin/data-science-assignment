{
  "cells": [
    {
      "cell_type": "markdown",
      "metadata": {
        "id": "MhoQ0WE77laV"
      },
      "source": [
        "##### Copyright 2018 The TensorFlow Authors."
      ]
    },
    {
      "cell_type": "code",
      "execution_count": 1,
      "metadata": {
        "cellView": "form",
        "id": "_ckMIh7O7s6D"
      },
      "outputs": [],
      "source": [
        "#@title Licensed under the Apache License, Version 2.0 (the \"License\");\n",
        "# you may not use this file except in compliance with the License.\n",
        "# You may obtain a copy of the License at\n",
        "#\n",
        "# https://www.apache.org/licenses/LICENSE-2.0\n",
        "#\n",
        "# Unless required by applicable law or agreed to in writing, software\n",
        "# distributed under the License is distributed on an \"AS IS\" BASIS,\n",
        "# WITHOUT WARRANTIES OR CONDITIONS OF ANY KIND, either express or implied.\n",
        "# See the License for the specific language governing permissions and\n",
        "# limitations under the License."
      ]
    },
    {
      "cell_type": "code",
      "execution_count": 2,
      "metadata": {
        "cellView": "form",
        "id": "vasWnqRgy1H4"
      },
      "outputs": [],
      "source": [
        "#@title MIT License\n",
        "#\n",
        "# Copyright (c) 2017 François Chollet\n",
        "#\n",
        "# Permission is hereby granted, free of charge, to any person obtaining a\n",
        "# copy of this software and associated documentation files (the \"Software\"),\n",
        "# to deal in the Software without restriction, including without limitation\n",
        "# the rights to use, copy, modify, merge, publish, distribute, sublicense,\n",
        "# and/or sell copies of the Software, and to permit persons to whom the\n",
        "# Software is furnished to do so, subject to the following conditions:\n",
        "#\n",
        "# The above copyright notice and this permission notice shall be included in\n",
        "# all copies or substantial portions of the Software.\n",
        "#\n",
        "# THE SOFTWARE IS PROVIDED \"AS IS\", WITHOUT WARRANTY OF ANY KIND, EXPRESS OR\n",
        "# IMPLIED, INCLUDING BUT NOT LIMITED TO THE WARRANTIES OF MERCHANTABILITY,\n",
        "# FITNESS FOR A PARTICULAR PURPOSE AND NONINFRINGEMENT. IN NO EVENT SHALL\n",
        "# THE AUTHORS OR COPYRIGHT HOLDERS BE LIABLE FOR ANY CLAIM, DAMAGES OR OTHER\n",
        "# LIABILITY, WHETHER IN AN ACTION OF CONTRACT, TORT OR OTHERWISE, ARISING\n",
        "# FROM, OUT OF OR IN CONNECTION WITH THE SOFTWARE OR THE USE OR OTHER\n",
        "# DEALINGS IN THE SOFTWARE."
      ]
    },
    {
      "cell_type": "markdown",
      "metadata": {
        "id": "jYysdyb-CaWM"
      },
      "source": [
        "# Basic classification: Classify images of clothing"
      ]
    },
    {
      "cell_type": "code",
      "execution_count": 3,
      "metadata": {
        "id": "dzLKpmZICaWN",
        "outputId": "4f4bfdaf-a9a5-40a3-acac-9bbae19353aa",
        "colab": {
          "base_uri": "https://localhost:8080/"
        }
      },
      "outputs": [
        {
          "output_type": "stream",
          "name": "stdout",
          "text": [
            "2.8.0\n"
          ]
        }
      ],
      "source": [
        "# TensorFlow and tf.keras\n",
        "import tensorflow as tf\n",
        "\n",
        "# Helper libraries\n",
        "import numpy as np\n",
        "import matplotlib.pyplot as plt\n",
        "\n",
        "from sklearn.metrics import confusion_matrix, classification_report\n",
        "\n",
        "print(tf.__version__)"
      ]
    },
    {
      "cell_type": "markdown",
      "metadata": {
        "id": "yR0EdgrLCaWR"
      },
      "source": [
        "## Import the Fashion MNIST dataset"
      ]
    },
    {
      "cell_type": "code",
      "execution_count": 4,
      "metadata": {
        "id": "7MqDQO0KCaWS",
        "outputId": "e253cc31-92d5-42d9-9f05-f1ecd8cc2024",
        "colab": {
          "base_uri": "https://localhost:8080/"
        }
      },
      "outputs": [
        {
          "output_type": "stream",
          "name": "stdout",
          "text": [
            "Downloading data from https://storage.googleapis.com/tensorflow/tf-keras-datasets/train-labels-idx1-ubyte.gz\n",
            "32768/29515 [=================================] - 0s 0us/step\n",
            "40960/29515 [=========================================] - 0s 0us/step\n",
            "Downloading data from https://storage.googleapis.com/tensorflow/tf-keras-datasets/train-images-idx3-ubyte.gz\n",
            "26427392/26421880 [==============================] - 0s 0us/step\n",
            "26435584/26421880 [==============================] - 0s 0us/step\n",
            "Downloading data from https://storage.googleapis.com/tensorflow/tf-keras-datasets/t10k-labels-idx1-ubyte.gz\n",
            "16384/5148 [===============================================================================================] - 0s 0us/step\n",
            "Downloading data from https://storage.googleapis.com/tensorflow/tf-keras-datasets/t10k-images-idx3-ubyte.gz\n",
            "4423680/4422102 [==============================] - 0s 0us/step\n",
            "4431872/4422102 [==============================] - 0s 0us/step\n"
          ]
        }
      ],
      "source": [
        "fashion_mnist = tf.keras.datasets.fashion_mnist\n",
        "\n",
        "(train_images, train_labels), (test_images, test_labels) = fashion_mnist.load_data()"
      ]
    },
    {
      "cell_type": "markdown",
      "source": [
        "1.In this dataset, how many predictive classes are there in total?\n",
        "\n",
        "\n"
      ],
      "metadata": {
        "id": "XQAWJArmEVYy"
      }
    },
    {
      "cell_type": "code",
      "execution_count": 5,
      "metadata": {
        "id": "IjnLH5S2CaWx"
      },
      "outputs": [],
      "source": [
        "class_names = ['T-shirt/top', 'Trouser', 'Pullover', 'Dress', 'Coat',\n",
        "               'Sandal', 'Shirt', 'Sneaker', 'Bag', 'Ankle boot']"
      ]
    },
    {
      "cell_type": "code",
      "source": [
        "len(class_names)"
      ],
      "metadata": {
        "colab": {
          "base_uri": "https://localhost:8080/"
        },
        "id": "fMRvYNXqEa13",
        "outputId": "edcbe90f-4e47-4dd8-f66a-3da5704cce8f"
      },
      "execution_count": 6,
      "outputs": [
        {
          "output_type": "execute_result",
          "data": {
            "text/plain": [
              "10"
            ]
          },
          "metadata": {},
          "execution_count": 6
        }
      ]
    },
    {
      "cell_type": "code",
      "execution_count": 7,
      "metadata": {
        "id": "bW5WzIPlCaWv"
      },
      "outputs": [],
      "source": [
        "train_images = train_images / 255.0\n",
        "test_images = test_images / 255.0"
      ]
    },
    {
      "cell_type": "markdown",
      "source": [
        "2.How many images are there in the training dataset and what is the size of the images?\n",
        "\n",
        "\n"
      ],
      "metadata": {
        "id": "ozD4YCTdEhUy"
      }
    },
    {
      "cell_type": "code",
      "source": [
        "train_images.shape"
      ],
      "metadata": {
        "colab": {
          "base_uri": "https://localhost:8080/"
        },
        "id": "7KryYOLnEPSc",
        "outputId": "8d1122fb-f4aa-42c2-8993-80dbeb898f21"
      },
      "execution_count": 8,
      "outputs": [
        {
          "output_type": "execute_result",
          "data": {
            "text/plain": [
              "(60000, 28, 28)"
            ]
          },
          "metadata": {},
          "execution_count": 8
        }
      ]
    },
    {
      "cell_type": "markdown",
      "source": [
        "3.What is the class of the 2022 figure in the training set?\n",
        "\n",
        "\n"
      ],
      "metadata": {
        "id": "IlXhD8U6zZ4Z"
      }
    },
    {
      "cell_type": "code",
      "source": [
        "class_names[train_labels[2022]]"
      ],
      "metadata": {
        "colab": {
          "base_uri": "https://localhost:8080/",
          "height": 35
        },
        "id": "5nU1-TvBvKro",
        "outputId": "5ffdfe7e-bab3-43e9-edfa-c5cca6e1d8f0"
      },
      "execution_count": 9,
      "outputs": [
        {
          "output_type": "execute_result",
          "data": {
            "application/vnd.google.colaboratory.intrinsic+json": {
              "type": "string"
            },
            "text/plain": [
              "'Sneaker'"
            ]
          },
          "metadata": {},
          "execution_count": 9
        }
      ]
    },
    {
      "cell_type": "markdown",
      "source": [
        "4.What is the class of the 2022 image in the testing set\n",
        "\n",
        "\n"
      ],
      "metadata": {
        "id": "d5GwnUci03nj"
      }
    },
    {
      "cell_type": "code",
      "source": [
        "class_names[test_labels[2022]]"
      ],
      "metadata": {
        "colab": {
          "base_uri": "https://localhost:8080/",
          "height": 35
        },
        "id": "p57h2K45zm1J",
        "outputId": "5f37a8f3-fbed-4058-985d-7efbb99a7df5"
      },
      "execution_count": 10,
      "outputs": [
        {
          "output_type": "execute_result",
          "data": {
            "application/vnd.google.colaboratory.intrinsic+json": {
              "type": "string"
            },
            "text/plain": [
              "'Sneaker'"
            ]
          },
          "metadata": {},
          "execution_count": 10
        }
      ]
    },
    {
      "cell_type": "markdown",
      "source": [
        "5.What is the range of the result after the normalization divided by 255?\n",
        "\n",
        "\n"
      ],
      "metadata": {
        "id": "JTwnJwLT01lc"
      }
    },
    {
      "cell_type": "code",
      "source": [
        "print(np.min(train_images[0]), np.max(train_images[0]))"
      ],
      "metadata": {
        "colab": {
          "base_uri": "https://localhost:8080/"
        },
        "id": "xQFap3fg0-YE",
        "outputId": "8eeebabe-5a23-4da0-c4a0-1127196e8e8f"
      },
      "execution_count": 11,
      "outputs": [
        {
          "output_type": "stream",
          "name": "stdout",
          "text": [
            "0.0 1.0\n"
          ]
        }
      ]
    },
    {
      "cell_type": "markdown",
      "source": [
        "# Model1: NN\n",
        "\n",
        "Create a model to have an image of 28*28 pixels as an input with 10 output classes.\n",
        "\n",
        "The model composes of flatten, dropout 20%, dense with 128 neurons, and output layer to classify each image into 10 classes.\n",
        "\n"
      ],
      "metadata": {
        "id": "tXzliHOURDw4"
      }
    },
    {
      "cell_type": "code",
      "source": [
        "from tensorflow import keras\n",
        "from tensorflow.keras import layers\n",
        "from tensorflow.keras.models import Sequential\n",
        "\n",
        "tf.random.set_seed(1234)\n",
        "\n",
        "model = Sequential([\n",
        "  layers.Flatten(),\n",
        "  layers.Dropout(0.2),\n",
        "  layers.Dense(128, activation='relu'),\n",
        "  layers.Dense(len(class_names))\n",
        "])"
      ],
      "metadata": {
        "id": "t95-wj_lROGq"
      },
      "execution_count": 12,
      "outputs": []
    },
    {
      "cell_type": "code",
      "source": [
        "model.compile(optimizer='adam',\n",
        "              loss=tf.keras.losses.SparseCategoricalCrossentropy(from_logits=True),\n",
        "              metrics=['accuracy'])"
      ],
      "metadata": {
        "id": "z4WqE9KwRdMZ"
      },
      "execution_count": 13,
      "outputs": []
    },
    {
      "cell_type": "code",
      "source": [
        "epochs = 10\n",
        "history = model.fit(train_images, train_labels, epochs=epochs)"
      ],
      "metadata": {
        "id": "TEqjmc0ORowV",
        "colab": {
          "base_uri": "https://localhost:8080/"
        },
        "outputId": "dd14fc67-9bfc-4819-fc4f-c68c6aae2dd6"
      },
      "execution_count": 14,
      "outputs": [
        {
          "output_type": "stream",
          "name": "stdout",
          "text": [
            "Epoch 1/10\n",
            "1875/1875 [==============================] - 13s 6ms/step - loss: 0.5450 - accuracy: 0.8093\n",
            "Epoch 2/10\n",
            "1875/1875 [==============================] - 5s 3ms/step - loss: 0.4134 - accuracy: 0.8513\n",
            "Epoch 3/10\n",
            "1875/1875 [==============================] - 5s 3ms/step - loss: 0.3786 - accuracy: 0.8608\n",
            "Epoch 4/10\n",
            "1875/1875 [==============================] - 5s 3ms/step - loss: 0.3527 - accuracy: 0.8697\n",
            "Epoch 5/10\n",
            "1875/1875 [==============================] - 6s 3ms/step - loss: 0.3397 - accuracy: 0.8735\n",
            "Epoch 6/10\n",
            "1875/1875 [==============================] - 6s 3ms/step - loss: 0.3277 - accuracy: 0.8771\n",
            "Epoch 7/10\n",
            "1875/1875 [==============================] - 6s 3ms/step - loss: 0.3156 - accuracy: 0.8820\n",
            "Epoch 8/10\n",
            "1875/1875 [==============================] - 6s 3ms/step - loss: 0.3097 - accuracy: 0.8834\n",
            "Epoch 9/10\n",
            "1875/1875 [==============================] - 6s 3ms/step - loss: 0.3013 - accuracy: 0.8864\n",
            "Epoch 10/10\n",
            "1875/1875 [==============================] - 6s 3ms/step - loss: 0.2949 - accuracy: 0.8892\n"
          ]
        }
      ]
    },
    {
      "cell_type": "code",
      "source": [
        "test_loss, test_acc = model.evaluate(test_images,  test_labels, verbose=2)\n",
        "\n",
        "print('\\nTest accuracy:', test_acc)"
      ],
      "metadata": {
        "id": "Tfm3uX6KSc3y",
        "colab": {
          "base_uri": "https://localhost:8080/"
        },
        "outputId": "a86139d7-0a20-41e7-8f28-442f11d3216f"
      },
      "execution_count": 15,
      "outputs": [
        {
          "output_type": "stream",
          "name": "stdout",
          "text": [
            "313/313 - 1s - loss: 0.3579 - accuracy: 0.8713 - 519ms/epoch - 2ms/step\n",
            "\n",
            "Test accuracy: 0.8712999820709229\n"
          ]
        }
      ]
    },
    {
      "cell_type": "code",
      "source": [
        "#predict values from test set\n",
        "y_pred = model.predict(test_images)\n",
        "#convert predictions classes to one hot vectors\n",
        "y_pred_classes = np.argmax(y_pred, axis=1)\n",
        "#convert test observations to one hot vectors\n",
        "#y_true = np.argmax(test_labels)\n",
        "y_true = test_labels\n",
        "\n",
        "print(classification_report(y_true, y_pred_classes,  target_names=class_names, digits=4))"
      ],
      "metadata": {
        "id": "RjOenjlgSjIt",
        "colab": {
          "base_uri": "https://localhost:8080/"
        },
        "outputId": "d935ddf2-464d-4dd2-bd31-e86c0da25726"
      },
      "execution_count": 16,
      "outputs": [
        {
          "output_type": "stream",
          "name": "stdout",
          "text": [
            "              precision    recall  f1-score   support\n",
            "\n",
            " T-shirt/top     0.8085    0.8570    0.8320      1000\n",
            "     Trouser     0.9877    0.9650    0.9762      1000\n",
            "    Pullover     0.7404    0.8330    0.7840      1000\n",
            "       Dress     0.8914    0.8950    0.8932      1000\n",
            "        Coat     0.7645    0.8150    0.7890      1000\n",
            "      Sandal     0.9934    0.9070    0.9482      1000\n",
            "       Shirt     0.7517    0.5660    0.6458      1000\n",
            "     Sneaker     0.9496    0.9040    0.9262      1000\n",
            "         Bag     0.9704    0.9820    0.9761      1000\n",
            "  Ankle boot     0.8691    0.9890    0.9252      1000\n",
            "\n",
            "    accuracy                         0.8713     10000\n",
            "   macro avg     0.8727    0.8713    0.8696     10000\n",
            "weighted avg     0.8727    0.8713    0.8696     10000\n",
            "\n"
          ]
        }
      ]
    },
    {
      "cell_type": "markdown",
      "source": [
        "# Model2: CNN\n",
        "\n",
        "Modify Model1:\n",
        "\n",
        "Before the flatten layer, add 2 layers of Conv2D with kernel(2*2) for 64 and 32 filters, respectively.\n",
        "\n"
      ],
      "metadata": {
        "id": "JCnfdc00T8WG"
      }
    },
    {
      "cell_type": "code",
      "source": [
        "model = Sequential([\n",
        "  layers.Conv2D(64, kernel_size=(2,2), activation='relu',input_shape=(28,28,1)),\n",
        "  layers.Conv2D(32, kernel_size=(2,2), activation='relu'),\n",
        "  layers.Flatten(),\n",
        "  layers.Dropout(0.2),\n",
        "  layers.Dense(128, activation='relu'),\n",
        "  layers.Dense(10, activation='softmax')\n",
        "])"
      ],
      "metadata": {
        "id": "m0VfUAfUUJm1"
      },
      "execution_count": 17,
      "outputs": []
    },
    {
      "cell_type": "code",
      "source": [
        "model.compile(optimizer='adam',\n",
        "              loss=tf.keras.losses.SparseCategoricalCrossentropy(),\n",
        "              metrics=['accuracy'])"
      ],
      "metadata": {
        "id": "k31cTHIXUWVn"
      },
      "execution_count": 18,
      "outputs": []
    },
    {
      "cell_type": "code",
      "source": [
        "epochs=10\n",
        "history = model.fit(\n",
        "  train_images, train_labels,\n",
        "  epochs=epochs\n",
        ")"
      ],
      "metadata": {
        "id": "TMeNp7tDZQD2",
        "colab": {
          "base_uri": "https://localhost:8080/"
        },
        "outputId": "a94cf422-c170-466e-daed-796e3f0676bb"
      },
      "execution_count": 19,
      "outputs": [
        {
          "output_type": "stream",
          "name": "stdout",
          "text": [
            "Epoch 1/10\n",
            "1875/1875 [==============================] - 148s 79ms/step - loss: 0.3754 - accuracy: 0.8654\n",
            "Epoch 2/10\n",
            "1875/1875 [==============================] - 148s 79ms/step - loss: 0.2367 - accuracy: 0.9126\n",
            "Epoch 3/10\n",
            "1875/1875 [==============================] - 148s 79ms/step - loss: 0.1760 - accuracy: 0.9345\n",
            "Epoch 4/10\n",
            "1875/1875 [==============================] - 147s 79ms/step - loss: 0.1285 - accuracy: 0.9522\n",
            "Epoch 5/10\n",
            "1875/1875 [==============================] - 148s 79ms/step - loss: 0.0895 - accuracy: 0.9669\n",
            "Epoch 6/10\n",
            "1875/1875 [==============================] - 147s 79ms/step - loss: 0.0650 - accuracy: 0.9758\n",
            "Epoch 7/10\n",
            "1875/1875 [==============================] - 148s 79ms/step - loss: 0.0479 - accuracy: 0.9822\n",
            "Epoch 8/10\n",
            "1875/1875 [==============================] - 150s 80ms/step - loss: 0.0374 - accuracy: 0.9861\n",
            "Epoch 9/10\n",
            "1875/1875 [==============================] - 148s 79ms/step - loss: 0.0297 - accuracy: 0.9891\n",
            "Epoch 10/10\n",
            "1875/1875 [==============================] - 147s 79ms/step - loss: 0.0264 - accuracy: 0.9907\n"
          ]
        }
      ]
    },
    {
      "cell_type": "code",
      "source": [
        "test_loss, test_acc = model.evaluate(test_images,  test_labels, verbose=2)\n",
        "\n",
        "print('\\nTest accuracy:', test_acc)"
      ],
      "metadata": {
        "id": "N9c7sW0MVTvt",
        "colab": {
          "base_uri": "https://localhost:8080/"
        },
        "outputId": "f33f5d33-d3f7-4c41-e1ae-0ad0418b86d4"
      },
      "execution_count": 20,
      "outputs": [
        {
          "output_type": "stream",
          "name": "stdout",
          "text": [
            "313/313 - 5s - loss: 0.4635 - accuracy: 0.9128 - 5s/epoch - 15ms/step\n",
            "\n",
            "Test accuracy: 0.9128000140190125\n"
          ]
        }
      ]
    },
    {
      "cell_type": "code",
      "source": [
        "#predict values from test set\n",
        "y_pred = model.predict(test_images)\n",
        "#convert predictions classes to one hot vectors\n",
        "y_pred_classes = np.argmax(y_pred, axis=1)\n",
        "#convert test observations to one hot vectors\n",
        "#y_true = np.argmax(test_labels)\n",
        "y_true = test_labels\n",
        "\n",
        "print(classification_report(y_true, y_pred_classes,  target_names=class_names, digits=4))"
      ],
      "metadata": {
        "id": "QtR1fR3wVVpL",
        "colab": {
          "base_uri": "https://localhost:8080/"
        },
        "outputId": "c40a3478-5679-41d3-e913-da08ad3e8de3"
      },
      "execution_count": 21,
      "outputs": [
        {
          "output_type": "stream",
          "name": "stdout",
          "text": [
            "              precision    recall  f1-score   support\n",
            "\n",
            " T-shirt/top     0.8824    0.8100    0.8446      1000\n",
            "     Trouser     0.9939    0.9770    0.9854      1000\n",
            "    Pullover     0.8533    0.8960    0.8741      1000\n",
            "       Dress     0.9140    0.9030    0.9085      1000\n",
            "        Coat     0.8792    0.8590    0.8690      1000\n",
            "      Sandal     0.9780    0.9780    0.9780      1000\n",
            "       Shirt     0.7311    0.7830    0.7562      1000\n",
            "     Sneaker     0.9738    0.9650    0.9694      1000\n",
            "         Bag     0.9751    0.9790    0.9770      1000\n",
            "  Ankle boot     0.9607    0.9780    0.9693      1000\n",
            "\n",
            "    accuracy                         0.9128     10000\n",
            "   macro avg     0.9141    0.9128    0.9131     10000\n",
            "weighted avg     0.9141    0.9128    0.9131     10000\n",
            "\n"
          ]
        }
      ]
    },
    {
      "cell_type": "markdown",
      "source": [
        "# Model3: CNN with max-pool & dropout\n",
        "\n",
        "From those two Conv2D layers in Model2, add MaxPooling2D with pooling size (2*2) and then dropout 30%."
      ],
      "metadata": {
        "id": "pGzkCapqZgyY"
      }
    },
    {
      "cell_type": "code",
      "source": [
        "model = Sequential([\n",
        "  layers.Conv2D(64, kernel_size=(2,2), activation='relu',input_shape=(28,28,1)),\n",
        "  layers.MaxPooling2D(pool_size=(2,2)),\n",
        "  layers.Conv2D(32, kernel_size=(2,2), activation='relu'),\n",
        "  layers.MaxPooling2D(pool_size=(2,2)),\n",
        "  layers.Flatten(),\n",
        "  layers.Dropout(0.3),\n",
        "  layers.Dense(128, activation='relu'),\n",
        "  layers.Dense(10, activation='softmax')\n",
        "])"
      ],
      "metadata": {
        "id": "nSAHp5xhce8P"
      },
      "execution_count": 22,
      "outputs": []
    },
    {
      "cell_type": "code",
      "source": [
        "model.compile(optimizer='adam',\n",
        "              loss=tf.keras.losses.SparseCategoricalCrossentropy(),\n",
        "              metrics=['accuracy'])"
      ],
      "metadata": {
        "id": "rKEGqE3idhVd"
      },
      "execution_count": 23,
      "outputs": []
    },
    {
      "cell_type": "code",
      "source": [
        "epochs=10\n",
        "history = model.fit(\n",
        "  train_images, train_labels,\n",
        "  epochs=epochs\n",
        ")"
      ],
      "metadata": {
        "id": "BjYbEXeGdatM",
        "colab": {
          "base_uri": "https://localhost:8080/"
        },
        "outputId": "e1c7c665-9978-448d-c6cc-19f62bd97baf"
      },
      "execution_count": 24,
      "outputs": [
        {
          "output_type": "stream",
          "name": "stdout",
          "text": [
            "Epoch 1/10\n",
            "1875/1875 [==============================] - 56s 30ms/step - loss: 0.4758 - accuracy: 0.8257\n",
            "Epoch 2/10\n",
            "1875/1875 [==============================] - 55s 29ms/step - loss: 0.3389 - accuracy: 0.8751\n",
            "Epoch 3/10\n",
            "1875/1875 [==============================] - 55s 29ms/step - loss: 0.2960 - accuracy: 0.8910\n",
            "Epoch 4/10\n",
            "1875/1875 [==============================] - 55s 29ms/step - loss: 0.2690 - accuracy: 0.8991\n",
            "Epoch 5/10\n",
            "1875/1875 [==============================] - 55s 29ms/step - loss: 0.2492 - accuracy: 0.9073\n",
            "Epoch 6/10\n",
            "1875/1875 [==============================] - 55s 29ms/step - loss: 0.2316 - accuracy: 0.9131\n",
            "Epoch 7/10\n",
            "1875/1875 [==============================] - 54s 29ms/step - loss: 0.2182 - accuracy: 0.9174\n",
            "Epoch 8/10\n",
            "1875/1875 [==============================] - 55s 29ms/step - loss: 0.2071 - accuracy: 0.9218\n",
            "Epoch 9/10\n",
            "1875/1875 [==============================] - 55s 29ms/step - loss: 0.1967 - accuracy: 0.9260\n",
            "Epoch 10/10\n",
            "1875/1875 [==============================] - 55s 29ms/step - loss: 0.1854 - accuracy: 0.9293\n"
          ]
        }
      ]
    },
    {
      "cell_type": "code",
      "source": [
        "test_loss, test_acc = model.evaluate(test_images,  test_labels, verbose=2)\n",
        "\n",
        "print('\\nTest accuracy:', test_acc)"
      ],
      "metadata": {
        "id": "vvLkJ8loddWS",
        "colab": {
          "base_uri": "https://localhost:8080/"
        },
        "outputId": "3e61236a-09ad-4277-c1fd-16415df458d7"
      },
      "execution_count": 25,
      "outputs": [
        {
          "output_type": "stream",
          "name": "stdout",
          "text": [
            "313/313 - 2s - loss: 0.2462 - accuracy: 0.9104 - 2s/epoch - 8ms/step\n",
            "\n",
            "Test accuracy: 0.9103999733924866\n"
          ]
        }
      ]
    },
    {
      "cell_type": "code",
      "source": [
        "#predict values from test set\n",
        "y_pred = model.predict(test_images)\n",
        "#convert predictions classes to one hot vectors\n",
        "y_pred_classes = np.argmax(y_pred, axis=1)\n",
        "#convert test observations to one hot vectors\n",
        "#y_true = np.argmax(test_labels)\n",
        "y_true = test_labels\n",
        "\n",
        "print(classification_report(y_true, y_pred_classes,  target_names=class_names, digits=4))"
      ],
      "metadata": {
        "id": "TjTHrrx8dl5-",
        "colab": {
          "base_uri": "https://localhost:8080/"
        },
        "outputId": "96e6e66b-e380-469c-83d8-ada441f63f12"
      },
      "execution_count": 26,
      "outputs": [
        {
          "output_type": "stream",
          "name": "stdout",
          "text": [
            "              precision    recall  f1-score   support\n",
            "\n",
            " T-shirt/top     0.8632    0.8710    0.8671      1000\n",
            "     Trouser     0.9949    0.9810    0.9879      1000\n",
            "    Pullover     0.8042    0.9160    0.8565      1000\n",
            "       Dress     0.9139    0.9240    0.9189      1000\n",
            "        Coat     0.8417    0.8510    0.8463      1000\n",
            "      Sandal     0.9938    0.9680    0.9807      1000\n",
            "       Shirt     0.8007    0.6670    0.7278      1000\n",
            "     Sneaker     0.9618    0.9580    0.9599      1000\n",
            "         Bag     0.9812    0.9900    0.9856      1000\n",
            "  Ankle boot     0.9477    0.9780    0.9626      1000\n",
            "\n",
            "    accuracy                         0.9104     10000\n",
            "   macro avg     0.9103    0.9104    0.9093     10000\n",
            "weighted avg     0.9103    0.9104    0.9093     10000\n",
            "\n"
          ]
        }
      ]
    }
  ],
  "metadata": {
    "colab": {
      "collapsed_sections": [],
      "name": "[Assignment_6]_FashinMNIST_v2",
      "provenance": []
    },
    "kernelspec": {
      "display_name": "Python 3",
      "name": "python3"
    },
    "accelerator": "GPU"
  },
  "nbformat": 4,
  "nbformat_minor": 0
}